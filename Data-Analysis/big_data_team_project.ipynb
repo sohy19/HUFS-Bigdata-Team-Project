{
  "nbformat": 4,
  "nbformat_minor": 0,
  "metadata": {
    "colab": {
      "provenance": [],
      "authorship_tag": "ABX9TyNF+2GOQ3na92j7ZnzRixmJ",
      "include_colab_link": true
    },
    "kernelspec": {
      "name": "python3",
      "display_name": "Python 3"
    },
    "language_info": {
      "name": "python"
    }
  },
  "cells": [
    {
      "cell_type": "markdown",
      "metadata": {
        "id": "view-in-github",
        "colab_type": "text"
      },
      "source": [
        "<a href=\"https://colab.research.google.com/github/leta-ha/HUFS-Bigdata-Team-Project/blob/main/big_data_team_project.ipynb\" target=\"_parent\"><img src=\"https://colab.research.google.com/assets/colab-badge.svg\" alt=\"Open In Colab\"/></a>"
      ]
    },
    {
      "cell_type": "code",
      "execution_count": null,
      "metadata": {
        "id": "wFJMGfNMUA4q"
      },
      "outputs": [],
      "source": [
        "#코랩에서 파일을 읽어오기 위한 코드\n",
        "from google.colab import files \n",
        "file_uploaded = files.upload()"
      ]
    },
    {
      "cell_type": "code",
      "source": [
        "#코랩 폰트 다운로드\n",
        "\n",
        "!apt-get install fonts-nanum*\n",
        "!apt-get install fontconfig\n",
        "\n",
        "# import matplotlib as mpl\n",
        "# import matplotlib.pyplot as plt\n",
        "\n",
        "# %config InlineBackend.figure_format = 'retina'\n",
        " \n",
        "# !apt -qq -y install fonts-nanum\n",
        " \n",
        "# import matplotlib.font_manager as fm\n",
        "# fontpath = '/usr/share/fonts/truetype/nanum/NanumBarunGothic.ttf'\n",
        "# font = fm.FontProperties(fname=fontpath, size=9)\n",
        "# plt.rc('font', family='NanumBarunGothic') \n",
        "# mpl.font_manager._rebuild()"
      ],
      "metadata": {
        "id": "ooWC7KS6ElZv"
      },
      "execution_count": null,
      "outputs": []
    },
    {
      "cell_type": "code",
      "source": [
        "#그래프 그리기 위한 패키지 임포트\n",
        "\n",
        "%matplotlib inline\n",
        "import matplotlib.pyplot as plt\n",
        "import pandas as pd"
      ],
      "metadata": {
        "id": "t5aA6OP882nl"
      },
      "execution_count": null,
      "outputs": []
    },
    {
      "cell_type": "code",
      "source": [
        "#소재지 지도에 나타내기\n",
        "\n",
        "import io\n",
        "import pandas as pd\n",
        "import matplotlib.pyplot as plt\n",
        "import matplotlib\n",
        "from geopy.geocoders import Nominatim \n",
        "import folium as g\n",
        "\n",
        "data = pd.read_csv(io.BytesIO(file_uploaded['network-company-data.csv']), encoding='cp949', sep='\\t') #파일 읽어오기\n",
        "address = data['address'] #소재지 데이터만 추출\n",
        "\n",
        "\n",
        "#주소에서 필요한 부분만 잘라내기 (건물 층 수는 필요 없으므로 삭제)\n",
        "for i in range(len(address)):\n",
        "    a = address[i].split(' ')\n",
        "    address[i] = \" \".join(a[0:4])\n",
        "\n",
        "\n",
        "####### 도로명주소 위도 경도 값으로 바꿔주기 ########\n",
        "geo_local = Nominatim(user_agent='South Korea')\n",
        "\n",
        "# 위도, 경도 반환하는 함수\n",
        "def geocoding(address):\n",
        "    try:\n",
        "        geo = geo_local.geocode(address)\n",
        "        x_y = [geo.latitude, geo.longitude]\n",
        "        return x_y\n",
        "\n",
        "    except:\n",
        "        return [0,0]\n",
        "        \n",
        "#####주소를 위,경도 값으로 변환하기 #####\n",
        "latitude = []\n",
        "longitude =[]\n",
        "\n",
        "for i in address:\n",
        "    latitude.append(geocoding(i)[0])\n",
        "    longitude.append(geocoding(i)[1])\n",
        "\n",
        "#주소를 위,경도 값으로 변환한 후 데이터 프레임 생성\n",
        "address_df = pd.DataFrame({'company': data['name'],'address':data['address'],'latitude':latitude,'longitude':longitude})\n",
        "\n",
        "#지도의 시작 위치 설정\n",
        "korea_map = g.Map(location=[37.55, 126.98], tiles = 'Stamen Terrain', zoom_start = 12)\n",
        "\n",
        "\n",
        "#소재지를 지도에 마커로 나타내기\n",
        "for i in range(len(address_df)):\n",
        "  marker01 = g.Marker([address_df.loc[i]['latitude'], address_df.loc[i]['longitude']],\n",
        "                      icon = g.Icon(color='orange'))\n",
        "  marker01.add_to(korea_map)\n",
        "korea_map\n"
      ],
      "metadata": {
        "id": "jUpDVaO5Y21P"
      },
      "execution_count": null,
      "outputs": []
    },
    {
      "cell_type": "code",
      "source": [
        "#연봉 scatter plot으로 나타내기\n",
        "import io\n",
        "import pandas as pd\n",
        "import matplotlib.pyplot as plt\n",
        "import matplotlib\n",
        "\n",
        "salary = pd.read_csv(io.BytesIO(file_uploaded['salary.csv']), encoding='cp949') #파일 불러오기\n",
        "df = pd.DataFrame(salary) #데이터 프레임 생성\n",
        "\n",
        "salary.replace(',','', regex=True, inplace=True) #연봉 정보의 ',' 삭제 ex)1,000\n",
        "salary = salary.astype({'salary':'int'}) #str으로 들어온 연봉 정보를 int로 변환\n",
        "\n",
        "plt.scatter(salary['field'], salary['salary']) #scatter plot 사용하여 나타내기\n",
        "plt.show()"
      ],
      "metadata": {
        "id": "pnHnwu_y8v11"
      },
      "execution_count": null,
      "outputs": []
    },
    {
      "cell_type": "code",
      "source": [
        "#IT 기술 트렌드 파이그래프\n",
        "\n",
        "# io : Python's main facilities for dealing with various types of I/O.\n",
        "import io\n",
        "import pandas as pd\n",
        "from collections import Counter\n",
        "import matplotlib.pyplot as plt\n",
        "import matplotlib\n",
        "\n",
        "#폰트 설정\n",
        "matplotlib.rcParams['font.family'] = 'Malgun Gothic'  # os: window \n",
        "matplotlib.rcParams['axes.unicode_minus'] = False\n",
        "\n",
        "\n",
        "skd = pd.read_csv(io.BytesIO(file_uploaded['app-skill-data.csv']), encoding='UTF-8') #파일 불러오기\n",
        "df = pd.DataFrame(skd) #데이터프레임 생성\n",
        "sklist = df['앱 개발자'].to_list() ##데이터프레임을 tolist 함수 사용해 리스트로 변경\n",
        "\n",
        "count = Counter(sklist) #개수 세서 내림차순 정렬\n",
        "skills = dict(count.most_common()) #딕셔너리로 나타내기\n",
        "\n",
        "labels = []\n",
        "values = []\n",
        "for key, value in skills.items(): #여러 IT 기술들 중 TOP 5 선별\n",
        "  if len(labels) <= 4:\n",
        "    labels.append(key)\n",
        "    values.append(value)\n",
        "\n",
        "plt.pie(values, labels=labels, autopct='%.1f') #파이그래프 출력 (소수점 첫째자리까지)\n"
      ],
      "metadata": {
        "id": "v6funDO3ZRvo"
      },
      "execution_count": null,
      "outputs": []
    },
    {
      "cell_type": "code",
      "source": [
        "#IT 기술 트렌드 Word Cloud\n",
        "\n",
        "import pandas as pd \n",
        "from collections import Counter\n",
        "from wordcloud import WordCloud\n",
        "import matplotlib.pyplot as plt\n",
        "import nltk\n",
        "\n",
        "# app_skd = pd.read_csv(io.BytesIO(file_uploaded['app-skill-sort.csv']), encoding='cp949')\n",
        "# skd = pd.read_csv(io.BytesIO(file_uploaded['data-skill-data.csv']))\n",
        "# skd = pd.read_csv(io.BytesIO(file_uploaded['network-skill-data.csv']))\n",
        "skd = pd.read_csv(io.BytesIO(file_uploaded['web-skill-data.csv'])) #파일 불러오기\n",
        "df = pd.DataFrame(skd) #데이터 프레임 생성\n",
        "sklist = df['웹 개발자'].to_list() #데이터프레임을 tolist 함수 사용해 리스트로 변경\n",
        "\n",
        "count = Counter(sklist) #개수 세서 내림차순 정렬\n",
        "skills = dict(count.most_common()) #딕셔너리로 변환\n",
        "skills\n",
        "\n",
        "\n",
        "wordcloud = WordCloud(font_path = 'd:/Users/letaleta/Desktop/HUFS/hufs 4-2/Bigdata/teamproject/data/NanumSquareEB.ttf', background_color='white',colormap = \"Accent_r\",\n",
        "                      width=1500, height=1000).generate_from_frequencies(skills) #워드클라우드 설정\n",
        "\n",
        "plt.imshow(wordcloud)\n",
        "plt.axis('off')\n",
        "plt.show()"
      ],
      "metadata": {
        "id": "azxsv1Zf_kLk"
      },
      "execution_count": null,
      "outputs": []
    },
    {
      "cell_type": "code",
      "source": [
        "#복지 트렌드 Word Cloud\n",
        "\n",
        "import pandas as pd \n",
        "from collections import Counter\n",
        "from wordcloud import WordCloud\n",
        "import matplotlib.pyplot as plt\n",
        "import nltk\n",
        "\n",
        "wd = pd.read_csv(io.BytesIO(file_uploaded['game-company-data.csv']), encoding='cp949') #파일 불러오기\n",
        "df = pd.DataFrame(wd) #데이터 프레임 생성\n",
        "\n",
        "wlist = df['welfare'].to_list() #dataframe을 tolist 함수 사용해 리스트로 변경\n",
        "\n",
        "count = Counter(wlist) #개수 세서 내림차순 정렬\n",
        "welfares = dict(count.most_common()) #딕셔너리로 변환\n",
        "\n",
        "wordcloud = WordCloud(font_path = 'd:/Users/letaleta/Desktop/HUFS/hufs 4-2/Bigdata/teamproject/data/NanumSquareEB.ttf', background_color='white',colormap = \"Accent_r\",\n",
        "                      width=1500, height=1000).generate_from_frequencies(welfares) #워드클라우드 설정\n",
        "\n",
        "plt.imshow(wordcloud)\n",
        "plt.axis('off')\n",
        "plt.show()"
      ],
      "metadata": {
        "id": "Ne-DtgWdOqaj"
      },
      "execution_count": null,
      "outputs": []
    }
  ]
}
